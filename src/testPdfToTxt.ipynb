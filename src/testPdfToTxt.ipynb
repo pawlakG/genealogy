{
 "cells": [
  {
   "cell_type": "markdown",
   "id": "7f5a55f7-1af7-41d6-9dc3-bc1630086ec9",
   "metadata": {},
   "source": [
    "# Test script for OCR step in genealogy project\n",
    "This script is designed to evaluate python script before lauching analysis step on computing cluster runing slurm workload manager.\n",
    "## Import modules"
   ]
  },
  {
   "cell_type": "code",
   "execution_count": null,
   "id": "67ccefcc-e7cf-4131-9b70-7aec10e1981c",
   "metadata": {},
   "outputs": [],
   "source": [
    "import glob\n",
    "import os\n",
    "\n",
    "import pytesseract\n",
    "from pdf2image import convert_from_path\n",
    "import cv2\n",
    "\n",
    "from tqdm import tqdm"
   ]
  },
  {
   "cell_type": "markdown",
   "id": "e94887b1-a807-49b3-8d66-bd889dffbfa2",
   "metadata": {
    "tags": []
   },
   "source": [
    "## Tests\n",
    "downloadFolder is the path were PDFs are stored\n",
    "### Convert to JPEG"
   ]
  },
  {
   "cell_type": "code",
   "execution_count": null,
   "id": "445dd5b2-9dfd-4c8c-a6a3-6414802833d8",
   "metadata": {},
   "outputs": [],
   "source": [
    "downloadFolder = \"\"\n",
    "\n",
    "# Get file's name\n",
    "fileName = glob.glob(downloadFolder+\"*.pdf\")[0]\n",
    "print(fileName)\n",
    "# Create tmp folder\n",
    "try:\n",
    "    os.mkdir(downloadFolder+\"tmp\")\n",
    "except OSError as error:\n",
    "    print(error) \n",
    "\n",
    "# Convert PDF to images\n",
    "print(r\"filePath: \" + fileName)\n",
    "imgs = convert_from_path(fileName, \n",
    "                         dpi=350, \n",
    "                         thread_count = 7, paths_only=True)\n",
    "print(r\"length imgs :\" + str(len(imgs)))\n",
    "\n",
    "#for page in imgs:\n",
    "#    image_name = \"Page_\" + str(i) + \".jpg\"  \n",
    "#    page.save(downloadFolder+\"tmp/\"+image_name, \"JPEG\")\n",
    "#    i = i+1  "
   ]
  },
  {
   "cell_type": "markdown",
   "id": "38a23cf9-87ab-4ff7-afb0-d75954135277",
   "metadata": {
    "tags": []
   },
   "source": [
    "### Convert JPEG to String"
   ]
  },
  {
   "cell_type": "code",
   "execution_count": null,
   "id": "a9e15603-6d47-4f2f-9c9e-522bbdb68a68",
   "metadata": {},
   "outputs": [],
   "source": [
    "# initiate list of string\n",
    "listString = []\n",
    "i = 1\n",
    "for i in tqdm(range(len(imgs))):\n",
    "    page = imgs[i]\n",
    "    image_name = \"Page_\" + str(i) + \".jpg\"  \n",
    "    # load the original image\n",
    "    image = cv2.imread(downloadFolder+\"tmp/\"+image_name)\n",
    "    # pytesseract image to string to get results\n",
    "    text = str(pytesseract.image_to_string(image, config='--psm 1 --oem 1'))\n",
    "    listString.append(text)\n",
    "    page.save(downloadFolder+\"tmp/\"+image_name, \"JPEG\")\n",
    "    i = i+1  "
   ]
  }
 ],
 "metadata": {
  "kernelspec": {
   "display_name": "Python 3 (ipykernel)",
   "language": "python",
   "name": "python3"
  },
  "language_info": {
   "codemirror_mode": {
    "name": "ipython",
    "version": 3
   },
   "file_extension": ".py",
   "mimetype": "text/x-python",
   "name": "python",
   "nbconvert_exporter": "python",
   "pygments_lexer": "ipython3",
   "version": "3.9.16"
  }
 },
 "nbformat": 4,
 "nbformat_minor": 5
}
